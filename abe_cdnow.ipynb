{
 "cells": [
  {
   "cell_type": "code",
   "execution_count": null,
   "id": "f8e0ef26",
   "metadata": {},
   "outputs": [],
   "source": [
    "#!pip install numpy scipy pandas matplotlib numba arviz tabulate seaborn tqdm"
   ]
  },
  {
   "cell_type": "code",
   "execution_count": null,
   "id": "6688e3f6",
   "metadata": {},
   "outputs": [],
   "source": [
    "#!pip install lifetimes --quiet"
   ]
  },
  {
   "cell_type": "code",
   "execution_count": 1,
   "id": "bfd1cd17",
   "metadata": {},
   "outputs": [
    {
     "name": "stdout",
     "output_type": "stream",
     "text": [
      "[AbeHB] Numba JIT backend active.\n"
     ]
    }
   ],
   "source": [
    "# Imports & settings\n",
    "%load_ext autoreload\n",
    "%autoreload 2\n",
    "%matplotlib inline\n",
    "\n",
    "import numpy as np\n",
    "import pandas as pd\n",
    "import matplotlib.pyplot as plt\n",
    "import seaborn as sns\n",
    "\n",
    "import arviz as az\n",
    "from tabulate import tabulate      # purely for pretty tables in the notebook\n",
    "\n",
    "from abe_hb_pareto_nbd import AbeHBParetoNBD, load_cdnow"
   ]
  },
  {
   "cell_type": "code",
   "execution_count": 2,
   "id": "cbd1b5ad",
   "metadata": {},
   "outputs": [
    {
     "name": "stdout",
     "output_type": "stream",
     "text": [
      "23570 customers in calibration window\n"
     ]
    },
    {
     "data": {
      "application/vnd.microsoft.datawrangler.viewer.v0+json": {
       "columns": [
        {
         "name": "index",
         "rawType": "int64",
         "type": "integer"
        },
        {
         "name": "id",
         "rawType": "object",
         "type": "string"
        },
        {
         "name": "intercept",
         "rawType": "float64",
         "type": "float"
        },
        {
         "name": "init_amount",
         "rawType": "float64",
         "type": "float"
        }
       ],
       "ref": "803ff5ad-1bb8-4d1e-b4f1-3ebc9705a4fe",
       "rows": [
        [
         "0",
         "00001",
         "1.0",
         "11.77"
        ],
        [
         "1",
         "00002",
         "1.0",
         "12.0"
        ],
        [
         "2",
         "00003",
         "1.0",
         "20.76"
        ],
        [
         "3",
         "00004",
         "1.0",
         "29.33"
        ],
        [
         "4",
         "00005",
         "1.0",
         "29.33"
        ]
       ],
       "shape": {
        "columns": 3,
        "rows": 5
       }
      },
      "text/html": [
       "<div>\n",
       "<style scoped>\n",
       "    .dataframe tbody tr th:only-of-type {\n",
       "        vertical-align: middle;\n",
       "    }\n",
       "\n",
       "    .dataframe tbody tr th {\n",
       "        vertical-align: top;\n",
       "    }\n",
       "\n",
       "    .dataframe thead th {\n",
       "        text-align: right;\n",
       "    }\n",
       "</style>\n",
       "<table border=\"1\" class=\"dataframe\">\n",
       "  <thead>\n",
       "    <tr style=\"text-align: right;\">\n",
       "      <th></th>\n",
       "      <th>id</th>\n",
       "      <th>intercept</th>\n",
       "      <th>init_amount</th>\n",
       "    </tr>\n",
       "  </thead>\n",
       "  <tbody>\n",
       "    <tr>\n",
       "      <th>0</th>\n",
       "      <td>00001</td>\n",
       "      <td>1.0</td>\n",
       "      <td>11.77</td>\n",
       "    </tr>\n",
       "    <tr>\n",
       "      <th>1</th>\n",
       "      <td>00002</td>\n",
       "      <td>1.0</td>\n",
       "      <td>12.00</td>\n",
       "    </tr>\n",
       "    <tr>\n",
       "      <th>2</th>\n",
       "      <td>00003</td>\n",
       "      <td>1.0</td>\n",
       "      <td>20.76</td>\n",
       "    </tr>\n",
       "    <tr>\n",
       "      <th>3</th>\n",
       "      <td>00004</td>\n",
       "      <td>1.0</td>\n",
       "      <td>29.33</td>\n",
       "    </tr>\n",
       "    <tr>\n",
       "      <th>4</th>\n",
       "      <td>00005</td>\n",
       "      <td>1.0</td>\n",
       "      <td>29.33</td>\n",
       "    </tr>\n",
       "  </tbody>\n",
       "</table>\n",
       "</div>"
      ],
      "text/plain": [
       "      id  intercept  init_amount\n",
       "0  00001        1.0        11.77\n",
       "1  00002        1.0        12.00\n",
       "2  00003        1.0        20.76\n",
       "3  00004        1.0        29.33\n",
       "4  00005        1.0        29.33"
      ]
     },
     "execution_count": 2,
     "metadata": {},
     "output_type": "execute_result"
    }
   ],
   "source": [
    "# Load CDNOW and inspect\n",
    "customers, cov = load_cdnow()      # will download once to ~/.cache\n",
    "N = len(customers)\n",
    "print(f\"{N} customers in calibration window\")\n",
    "\n",
    "cov.head()"
   ]
  },
  {
   "cell_type": "code",
   "execution_count": null,
   "id": "5861c306",
   "metadata": {},
   "outputs": [
    {
     "data": {
      "text/plain": [
       "<lifetimes.ParetoNBDFitter: fitted with 23570 subjects, alpha: 10.95, beta: 4.29, r: 0.62, s: 0.36>"
      ]
     },
     "execution_count": 19,
     "metadata": {},
     "output_type": "execute_result"
    }
   ],
   "source": [
    "# Fit the non-HB Pareto/NBD baseline\n",
    "from lifetimes import ParetoNBDFitter\n",
    "from datetime import timedelta\n",
    "\n",
    "# ---- prepare the CDNOW calibration RFM table ---------------------------\n",
    "txn = pd.read_csv(\n",
    "    \"~/.cache/cdnow_master.txt\",\n",
    "    sep=r\"\\s+\",\n",
    "    header=0,\n",
    "    names=[\"id\", \"date\", \"qty\", \"spend\"],\n",
    "    parse_dates=[\"date\"],\n",
    ")\n",
    "txn[\"t_week\"] = (txn[\"date\"] - txn.groupby(\"id\")[\"date\"].transform(\"min\")).dt.days / 7\n",
    "\n",
    "calib_weeks = 39\n",
    "calib_end   = txn[\"t_week\"] <= calib_weeks\n",
    "\n",
    "summary = (\n",
    "    txn[calib_end]\n",
    "        .groupby(\"id\")\n",
    "        .agg(\n",
    "            frequency = (\"id\", lambda x: len(x)-1),\n",
    "            recency   = (\"t_week\", \"max\"),\n",
    "            T         = (\"t_week\", lambda x: calib_weeks),\n",
    "        )\n",
    ")\n",
    "\n",
    "# ---- fit population Pareto/NBD -----------------------------------------\n",
    "pnbd = ParetoNBDFitter(penalizer_coef=0.0)\n",
    "pnbd.fit(summary[\"frequency\"], summary[\"recency\"], summary[\"T\"])"
   ]
  },
  {
   "cell_type": "code",
   "execution_count": 3,
   "id": "09804337",
   "metadata": {},
   "outputs": [
    {
     "name": "stdout",
     "output_type": "stream",
     "text": [
      "[AbeHB] Running chain with Numba backend.\n",
      "[AbeHB] Starting MCMC: 14,000 iterations (burn‑in 10,000, thin 1) on 23,570 customers.\n"
     ]
    },
    {
     "name": "stderr",
     "output_type": "stream",
     "text": [
      "MCMC:   7%|▋         | 1011/14000 [00:11<02:18, 93.96it/s]"
     ]
    },
    {
     "name": "stdout",
     "output_type": "stream",
     "text": [
      "iter   1000  acceptance ≈ 0.704\n"
     ]
    },
    {
     "name": "stderr",
     "output_type": "stream",
     "text": [
      "MCMC:  14%|█▍        | 2011/14000 [00:22<02:07, 93.84it/s]"
     ]
    },
    {
     "name": "stdout",
     "output_type": "stream",
     "text": [
      "iter   2000  acceptance ≈ 0.706\n"
     ]
    },
    {
     "name": "stderr",
     "output_type": "stream",
     "text": [
      "MCMC:  22%|██▏       | 3011/14000 [00:32<01:57, 93.50it/s]"
     ]
    },
    {
     "name": "stdout",
     "output_type": "stream",
     "text": [
      "iter   3000  acceptance ≈ 0.707\n"
     ]
    },
    {
     "name": "stderr",
     "output_type": "stream",
     "text": [
      "MCMC:  29%|██▊       | 4011/14000 [00:43<01:46, 93.87it/s]"
     ]
    },
    {
     "name": "stdout",
     "output_type": "stream",
     "text": [
      "iter   4000  acceptance ≈ 0.707\n"
     ]
    },
    {
     "name": "stderr",
     "output_type": "stream",
     "text": [
      "MCMC:  36%|███▌      | 5011/14000 [00:54<01:37, 92.35it/s]"
     ]
    },
    {
     "name": "stdout",
     "output_type": "stream",
     "text": [
      "iter   5000  acceptance ≈ 0.707\n"
     ]
    },
    {
     "name": "stderr",
     "output_type": "stream",
     "text": [
      "MCMC:  43%|████▎     | 6014/14000 [01:05<01:27, 91.41it/s]"
     ]
    },
    {
     "name": "stdout",
     "output_type": "stream",
     "text": [
      "iter   6000  acceptance ≈ 0.707\n"
     ]
    },
    {
     "name": "stderr",
     "output_type": "stream",
     "text": [
      "MCMC:  50%|█████     | 7014/14000 [01:16<01:14, 93.46it/s]"
     ]
    },
    {
     "name": "stdout",
     "output_type": "stream",
     "text": [
      "iter   7000  acceptance ≈ 0.706\n"
     ]
    },
    {
     "name": "stderr",
     "output_type": "stream",
     "text": [
      "MCMC:  57%|█████▋    | 8013/14000 [01:28<01:05, 91.73it/s]"
     ]
    },
    {
     "name": "stdout",
     "output_type": "stream",
     "text": [
      "iter   8000  acceptance ≈ 0.707\n"
     ]
    },
    {
     "name": "stderr",
     "output_type": "stream",
     "text": [
      "MCMC:  64%|██████▍   | 9009/14000 [01:38<00:53, 93.87it/s]"
     ]
    },
    {
     "name": "stdout",
     "output_type": "stream",
     "text": [
      "iter   9000  acceptance ≈ 0.707\n"
     ]
    },
    {
     "name": "stderr",
     "output_type": "stream",
     "text": [
      "MCMC:  72%|███████▏  | 10012/14000 [01:50<00:45, 88.47it/s]"
     ]
    },
    {
     "name": "stdout",
     "output_type": "stream",
     "text": [
      "iter  10000  acceptance ≈ 0.707\n"
     ]
    },
    {
     "name": "stderr",
     "output_type": "stream",
     "text": [
      "MCMC:  79%|███████▊  | 11013/14000 [02:00<00:30, 98.70it/s]"
     ]
    },
    {
     "name": "stdout",
     "output_type": "stream",
     "text": [
      "iter  11000  acceptance ≈ 0.707\n"
     ]
    },
    {
     "name": "stderr",
     "output_type": "stream",
     "text": [
      "MCMC:  86%|████████▌ | 12013/14000 [02:11<00:20, 97.71it/s]"
     ]
    },
    {
     "name": "stdout",
     "output_type": "stream",
     "text": [
      "iter  12000  acceptance ≈ 0.706\n"
     ]
    },
    {
     "name": "stderr",
     "output_type": "stream",
     "text": [
      "MCMC:  93%|█████████▎| 13013/14000 [02:21<00:10, 97.40it/s]"
     ]
    },
    {
     "name": "stdout",
     "output_type": "stream",
     "text": [
      "iter  13000  acceptance ≈ 0.707\n"
     ]
    },
    {
     "name": "stderr",
     "output_type": "stream",
     "text": [
      "MCMC: 100%|██████████| 14000/14000 [02:31<00:00, 92.31it/s]"
     ]
    },
    {
     "name": "stdout",
     "output_type": "stream",
     "text": [
      "iter  14000  acceptance ≈ 0.707\n",
      "[AbeHB] MCMC finished – stored 4,000 posterior draws.\n"
     ]
    },
    {
     "name": "stderr",
     "output_type": "stream",
     "text": [
      "\n"
     ]
    }
   ],
   "source": [
    "# Fit the HB Pareto/NBD\n",
    "model = AbeHBParetoNBD(customers, seed=42)\n",
    "model.run_mcmc(\n",
    "    n_iter   = 14_000,   # total\n",
    "    burn_in  = 10_000,   # first part discarded\n",
    "    thin     = 1,        # keep every post–burn-in draw\n",
    "    proposal_scale = 0.25,\n",
    ")"
   ]
  },
  {
   "cell_type": "markdown",
   "id": "5dbe79fa",
   "metadata": {},
   "source": [
    "## Figure 2  – Actual vs. posterior predictive cumulative transactions"
   ]
  },
  {
   "cell_type": "code",
   "execution_count": 24,
   "id": "6000eb7e",
   "metadata": {},
   "outputs": [
    {
     "ename": "TypeError",
     "evalue": "ParetoNBDFitter.expected_number_of_purchases_up_to_time() takes 2 positional arguments but 5 were given",
     "output_type": "error",
     "traceback": [
      "\u001b[31m---------------------------------------------------------------------------\u001b[39m",
      "\u001b[31mTypeError\u001b[39m                                 Traceback (most recent call last)",
      "\u001b[36mCell\u001b[39m\u001b[36m \u001b[39m\u001b[32mIn[24]\u001b[39m\u001b[32m, line 50\u001b[39m\n\u001b[32m     47\u001b[39m     \u001b[38;5;28;01mreturn\u001b[39;00m ax\n\u001b[32m     49\u001b[39m \u001b[38;5;66;03m# Plot the tracking figure\u001b[39;00m\n\u001b[32m---> \u001b[39m\u001b[32m50\u001b[39m \u001b[43mfigure2_tracking\u001b[49m\u001b[43m(\u001b[49m\u001b[43mmodel\u001b[49m\u001b[43m,\u001b[49m\u001b[43m \u001b[49m\u001b[43mpnbd\u001b[49m\u001b[43m,\u001b[49m\u001b[43m \u001b[49m\u001b[43mtxn\u001b[49m\u001b[43m,\u001b[49m\u001b[43m \u001b[49m\u001b[43mcalib_weeks\u001b[49m\u001b[43m=\u001b[49m\u001b[32;43m39\u001b[39;49m\u001b[43m,\u001b[49m\u001b[43m \u001b[49m\u001b[43mhorizon_weeks\u001b[49m\u001b[43m=\u001b[49m\u001b[32;43m80\u001b[39;49m\u001b[43m)\u001b[49m;\n",
      "\u001b[36mCell\u001b[39m\u001b[36m \u001b[39m\u001b[32mIn[24]\u001b[39m\u001b[32m, line 19\u001b[39m, in \u001b[36mfigure2_tracking\u001b[39m\u001b[34m(model_hb, pnbd, txn, calib_weeks, horizon_weeks)\u001b[39m\n\u001b[32m      9\u001b[39m actual = (\n\u001b[32m     10\u001b[39m     txn[txn[\u001b[33m\"\u001b[39m\u001b[33mt_week\u001b[39m\u001b[33m\"\u001b[39m] <= horizon_weeks]\n\u001b[32m     11\u001b[39m     .groupby(\u001b[33m\"\u001b[39m\u001b[33mt_week\u001b[39m\u001b[33m\"\u001b[39m)\n\u001b[32m     12\u001b[39m     .size()\n\u001b[32m     13\u001b[39m     .cumsum()\n\u001b[32m     14\u001b[39m ).reindex(weeks, fill_value=np.nan).interpolate()\n\u001b[32m     16\u001b[39m \u001b[38;5;66;03m# ---- Classical Pareto/NBD forecast (population)\u001b[39;00m\n\u001b[32m     17\u001b[39m \u001b[38;5;66;03m# expected repeat txns per customer per week\u001b[39;00m\n\u001b[32m     18\u001b[39m exp_pnbd = np.array([\n\u001b[32m---> \u001b[39m\u001b[32m19\u001b[39m     \u001b[43mpnbd\u001b[49m\u001b[43m.\u001b[49m\u001b[43mexpected_number_of_purchases_up_to_time\u001b[49m\u001b[43m(\u001b[49m\n\u001b[32m     20\u001b[39m \u001b[43m        \u001b[49m\u001b[32;43m7\u001b[39;49m\u001b[43m \u001b[49m\u001b[43m*\u001b[49m\u001b[43m \u001b[49m\u001b[43mw\u001b[49m\u001b[43m,\u001b[49m\n\u001b[32m     21\u001b[39m \u001b[43m        \u001b[49m\u001b[43msummary\u001b[49m\u001b[43m[\u001b[49m\u001b[33;43m\"\u001b[39;49m\u001b[33;43mfrequency\u001b[39;49m\u001b[33;43m\"\u001b[39;49m\u001b[43m]\u001b[49m\u001b[43m.\u001b[49m\u001b[43mvalues\u001b[49m\u001b[43m,\u001b[49m\n\u001b[32m     22\u001b[39m \u001b[43m        \u001b[49m\u001b[43msummary\u001b[49m\u001b[43m[\u001b[49m\u001b[33;43m\"\u001b[39;49m\u001b[33;43mrecency\u001b[39;49m\u001b[33;43m\"\u001b[39;49m\u001b[43m]\u001b[49m\u001b[43m.\u001b[49m\u001b[43mvalues\u001b[49m\u001b[43m,\u001b[49m\n\u001b[32m     23\u001b[39m \u001b[43m        \u001b[49m\u001b[43msummary\u001b[49m\u001b[43m[\u001b[49m\u001b[33;43m\"\u001b[39;49m\u001b[33;43mT\u001b[39;49m\u001b[33;43m\"\u001b[39;49m\u001b[43m]\u001b[49m\u001b[43m.\u001b[49m\u001b[43mvalues\u001b[49m\u001b[43m,\u001b[49m\n\u001b[32m     24\u001b[39m \u001b[43m    \u001b[49m\u001b[43m)\u001b[49m.sum()                    \u001b[38;5;66;03m# sum across customers\u001b[39;00m\n\u001b[32m     25\u001b[39m     \u001b[38;5;28;01mfor\u001b[39;00m w \u001b[38;5;129;01min\u001b[39;00m weeks\n\u001b[32m     26\u001b[39m ])\n\u001b[32m     27\u001b[39m \u001b[38;5;66;03m# the method already returns the *cumulative* expected repeats across customers\u001b[39;00m\n\u001b[32m     28\u001b[39m pnbd_cum = exp_pnbd\n",
      "\u001b[31mTypeError\u001b[39m: ParetoNBDFitter.expected_number_of_purchases_up_to_time() takes 2 positional arguments but 5 were given"
     ]
    }
   ],
   "source": [
    "# Function to plot the three curves\n",
    "def figure2_tracking(model_hb, pnbd, txn, calib_weeks=39, horizon_weeks=80):\n",
    "    \"\"\"Replicates Abe (2009) Figure 2 with Actual vs Pareto/NBD vs HB curves.\"\"\"\n",
    "    # ------------- build weekly grid ------------------------------------\n",
    "    weeks = np.arange(0, horizon_weeks + 1)\n",
    "\n",
    "    # ---- Actual cumulative repeat txns (repeat = every purchase except first)\n",
    "    txn[\"t_week\"] = (txn[\"date\"] - txn.groupby(\"id\")[\"date\"].transform(\"min\")).dt.days//7\n",
    "    actual = (\n",
    "        txn[txn[\"t_week\"] <= horizon_weeks]\n",
    "        .groupby(\"t_week\")\n",
    "        .size()\n",
    "        .cumsum()\n",
    "    ).reindex(weeks, fill_value=np.nan).interpolate()\n",
    "\n",
    "    # ---- Classical Pareto/NBD forecast (population)\n",
    "    # expected repeat txns per customer per week\n",
    "    exp_pnbd = np.array([\n",
    "        pnbd.expected_number_of_purchases_up_to_time(\n",
    "            7 * w,\n",
    "            summary[\"frequency\"].values,\n",
    "            summary[\"recency\"].values,\n",
    "            summary[\"T\"].values,\n",
    "        ).sum()                    # sum across customers\n",
    "        for w in weeks\n",
    "    ])\n",
    "    # the method already returns the *cumulative* expected repeats across customers\n",
    "    pnbd_cum = exp_pnbd\n",
    "\n",
    "    # ---- Hierarchical-Bayes curve\n",
    "    lam, mu = model_hb.posterior_means()\n",
    "    exp_hb = (lam / mu)[:, None] * (1 - np.exp(-mu[:, None] * weeks))\n",
    "    hb_cum = exp_hb.sum(axis=0)\n",
    "\n",
    "    # ------------- plot --------------------------------------------------\n",
    "    fig, ax = plt.subplots(figsize=(6, 5))\n",
    "    ax.plot(weeks, actual,        label=\"Actual\",       lw=2, color=\"k\")\n",
    "    ax.plot(weeks, pnbd_cum,      label=\"Pareto/NBD\",   ls=\"--\",  lw=2)\n",
    "    ax.plot(weeks, hb_cum,        label=\"HB\",           ls=\":\",   lw=2)\n",
    "\n",
    "    ax.axvline(calib_weeks, ls=\"--\", color=\"grey\")                 # 39-week split\n",
    "    ax.set_xlim(0, horizon_weeks); ax.set_ylim(0)\n",
    "    ax.set_xlabel(\"Week\"); ax.set_ylabel(\"Cumulative rpt. transactions\")\n",
    "    ax.set_title(\"Figure 2 — Weekly Time-Series Tracking Plot for CDNOW Data\")\n",
    "    ax.legend()\n",
    "    sns.despine(fig)\n",
    "    return ax\n",
    "\n",
    "# Plot the tracking figure\n",
    "figure2_tracking(model, pnbd, txn, calib_weeks=39, horizon_weeks=80);"
   ]
  },
  {
   "cell_type": "markdown",
   "id": "9eaf658c",
   "metadata": {},
   "source": [
    "## Figure 3 – Conditional Expectation of Future Transactions for CDNOW"
   ]
  },
  {
   "cell_type": "code",
   "execution_count": null,
   "id": "7aa9de32",
   "metadata": {},
   "outputs": [],
   "source": []
  },
  {
   "cell_type": "markdown",
   "id": "501e3b9e",
   "metadata": {},
   "source": [
    "## Figure 4  – Scatter Plot of Posterior Means of λ and μ for CDNOW Data"
   ]
  },
  {
   "cell_type": "code",
   "execution_count": null,
   "id": "eda34046",
   "metadata": {},
   "outputs": [
    {
     "data": {
      "image/png": "[encoded data removed]",
      "text/plain": [
       "<Figure size 600x600 with 1 Axes>"
      ]
     },
     "metadata": {},
     "output_type": "display_data"
    }
   ],
   "source": [
    "# Inspect the posterior means of λ and μ\n",
    "lam, mu = model.posterior_means()\n",
    "\n",
    "fig, ax = plt.subplots(figsize=(6, 6))\n",
    "ax.scatter(lam, mu, s=12, alpha=0.5, edgecolor=\"none\")     # pure scatter\n",
    "ax.set_xlabel(r\"$\\lambda$\")\n",
    "ax.set_ylabel(r\"$\\mu$\")\n",
    "ax.set_title(\"Figure 4 — Scatter Plot of Posterior Means of λ and μ for CDNOW Data\")\n",
    "\n",
    "sns.despine(fig)        \n",
    "plt.show()"
   ]
  },
  {
   "cell_type": "markdown",
   "id": "89983a8b",
   "metadata": {},
   "source": [
    "## Figure 5  – Distribution of Correlation Between log(λ) and log(μ) for CDNOW data"
   ]
  },
  {
   "cell_type": "code",
   "execution_count": null,
   "id": "c6ae56fb",
   "metadata": {},
   "outputs": [
    {
     "data": {
      "text/plain": [
       "Text(0, 0.5, 'Frequency')"
      ]
     },
     "execution_count": 26,
     "metadata": {},
     "output_type": "execute_result"
    },
    {
     "data": {
      "image/png": "[encoded data removed]",
      "text/plain": [
       "<Figure size 640x480 with 1 Axes>"
      ]
     },
     "metadata": {},
     "output_type": "display_data"
    }
   ],
   "source": [
    "# Posterior distribution of correlation between log λ and log μ\n",
    "draws = np.stack(model.draws[\"theta\"], axis=0)          # (n_draws, N, 2)\n",
    "\n",
    "# one correlation per retained draw\n",
    "corrs = [\n",
    "    np.corrcoef(d[:, 0], d[:, 1])[0, 1]                 # d is (N, 2)\n",
    "    for d in draws\n",
    "]\n",
    "\n",
    "sns.histplot(corrs)\n",
    "plt.title(\"Figure 5 - Histogram of correlation between log(λ) and log(μ)\")\n",
    "plt.xlabel(\"Correlation\")\n",
    "plt.ylabel(\"Frequency\")"
   ]
  },
  {
   "cell_type": "markdown",
   "id": "902cefe5",
   "metadata": {},
   "source": [
    "## Table 1  Descriptive statistics for CDNOW Data"
   ]
  },
  {
   "cell_type": "code",
   "execution_count": null,
   "id": "a61af2f6",
   "metadata": {},
   "outputs": [
    {
     "name": "stdout",
     "output_type": "stream",
     "text": [
      "|                                |   Mean |   Std. dev. |   Min |     Max |\n",
      "|--------------------------------|--------|-------------|-------|---------|\n",
      "| Number of repeats              |   1.96 |        4.74 |     0 |  216    |\n",
      "| Observation duration T (days)  | 502.09 |       23.31 |   462 |  545    |\n",
      "| Recency (T − t) (days)         | 367.22 |      181.21 |     0 |  545    |\n",
      "| Amount of initial purchase ($) |  32.79 |       33.17 |     0 | 1119.68 |\n"
     ]
    }
   ],
   "source": [
    "# ------------------------------------------------------------\n",
    "# 1.  Load the raw CDNOW master file (already cached earlier)\n",
    "# ------------------------------------------------------------\n",
    "raw = pd.read_csv(\n",
    "    \"~/.cache/cdnow_master.txt\",\n",
    "    sep=r\"\\s+\",\n",
    "    header=0,\n",
    "    names=[\"id\", \"date\", \"qty\", \"spend\"],\n",
    "    parse_dates=[\"date\"],\n",
    ")\n",
    "\n",
    "# calendar end of the study (same as Abe: 30 Jun 1998)\n",
    "end_date = pd.Timestamp(\"1998-06-30\")\n",
    "\n",
    "# ------------------------------------------------------------\n",
    "# 2.  Build per-customer aggregates\n",
    "# ------------------------------------------------------------\n",
    "first_txn = raw.groupby(\"id\")[\"date\"].min()\n",
    "last_txn  = raw.groupby(\"id\")[\"date\"].max()\n",
    "n_txn     = raw.groupby(\"id\").size()\n",
    "init_amt  = raw.sort_values(\"date\").groupby(\"id\")[\"spend\"].first()\n",
    "\n",
    "summary = pd.DataFrame({\n",
    "    \"Number of repeats\"            : n_txn - 1,\n",
    "    \"Observation duration T (days)\": (end_date - first_txn).dt.days,\n",
    "    \"Recency (T − t) (days)\"       : (end_date - last_txn ).dt.days,\n",
    "    \"Amount of initial purchase ($)\": init_amt,\n",
    "})\n",
    "\n",
    "# ------------------------------------------------------------\n",
    "# 3.  Descriptive statistics (mean, sd, min, max)\n",
    "# ------------------------------------------------------------\n",
    "table1 = summary.agg([\"mean\", \"std\", \"min\", \"max\"]).T.round(2)\n",
    "table1.columns = [\"Mean\", \"Std. dev.\", \"Min\", \"Max\"]\n",
    "\n",
    "print(tabulate(table1, headers=\"keys\", tablefmt=\"github\"))"
   ]
  },
  {
   "cell_type": "markdown",
   "id": "13d57ebe",
   "metadata": {},
   "source": [
    "## Table 2  Model fit for CDNOW Data"
   ]
  },
  {
   "cell_type": "code",
   "execution_count": 33,
   "id": "4e49d934",
   "metadata": {},
   "outputs": [
    {
     "ename": "AttributeError",
     "evalue": "type object 'AbeHBParetoNBD' has no attribute 'CustomerRFT'",
     "output_type": "error",
     "traceback": [
      "\u001b[31m---------------------------------------------------------------------------\u001b[39m",
      "\u001b[31mAttributeError\u001b[39m                            Traceback (most recent call last)",
      "\u001b[36mCell\u001b[39m\u001b[36m \u001b[39m\u001b[32mIn[33]\u001b[39m\u001b[32m, line 45\u001b[39m\n\u001b[32m     42\u001b[39m \u001b[38;5;28;01mfrom\u001b[39;00m\u001b[38;5;250m \u001b[39m\u001b[34;01mabe_hb_pareto_nbd\u001b[39;00m\u001b[38;5;250m \u001b[39m\u001b[38;5;28;01mimport\u001b[39;00m AbeHBParetoNBD\n\u001b[32m     44\u001b[39m \u001b[38;5;66;03m# ---- HB M1: no covariates\u001b[39;00m\n\u001b[32m---> \u001b[39m\u001b[32m45\u001b[39m customers = [\u001b[43mAbeHBParetoNBD\u001b[49m\u001b[43m.\u001b[49m\u001b[43mCustomerRFT\u001b[49m(x=f, t_x=r, T=t, d=np.array([\u001b[32m1.0\u001b[39m]))\n\u001b[32m     46\u001b[39m              \u001b[38;5;28;01mfor\u001b[39;00m f, r, t \u001b[38;5;129;01min\u001b[39;00m \u001b[38;5;28mzip\u001b[39m(freq, reci, Tarr)]\n\u001b[32m     48\u001b[39m hb_m1 = AbeHBParetoNBD(customers, seed=\u001b[32m42\u001b[39m)\n\u001b[32m     49\u001b[39m hb_m1.run_mcmc(\u001b[32m14_000\u001b[39m, burn_in=\u001b[32m10_000\u001b[39m, thin=\u001b[32m1\u001b[39m, proposal_scale=\u001b[32m0.25\u001b[39m, progress=\u001b[38;5;28;01mFalse\u001b[39;00m)\n",
      "\u001b[31mAttributeError\u001b[39m: type object 'AbeHBParetoNBD' has no attribute 'CustomerRFT'"
     ]
    }
   ],
   "source": [
    "# ------------------------------------------------------------------\n",
    "# 0.  Imports & raw data -------------------------------------------\n",
    "import numpy as np, pandas as pd\n",
    "from lifetimes import ParetoNBDFitter\n",
    "from tabulate import tabulate\n",
    "\n",
    "# load CDNOW master file (cached by earlier steps or download once)\n",
    "txn = pd.read_csv(\n",
    "    \"~/.cache/cdnow_master.txt\",\n",
    "    sep=r\"\\s+\",\n",
    "    header=0,\n",
    "    names=[\"id\", \"date\", \"qty\", \"spend\"],\n",
    "    parse_dates=[\"date\"],\n",
    ")\n",
    "txn[\"t_week\"] = (txn[\"date\"] - txn.groupby(\"id\")[\"date\"].transform(\"min\")).dt.days // 7\n",
    "\n",
    "# ------------------------------------------------------------------\n",
    "# 1.  Per-customer RFM summary for calibration window (weeks 0-39) --\n",
    "# ------------------------------------------------------------------\n",
    "calib_weeks = 39\n",
    "summary = (\n",
    "    txn[txn[\"t_week\"] <= calib_weeks]\n",
    "      .groupby(\"id\")\n",
    "      .agg(\n",
    "          frequency=(\"id\", lambda x: len(x) - 1),   # repeat purchases\n",
    "          recency  =(\"t_week\", \"max\"),              # last txn week\n",
    "          T        =(\"t_week\", lambda x: calib_weeks),\n",
    "      )\n",
    ")\n",
    "\n",
    "freq = summary[\"frequency\"].values\n",
    "reci = summary[\"recency\"].values\n",
    "Tarr = summary[\"T\"].values\n",
    "\n",
    "# ------------------------------------------------------------------\n",
    "# 2.  Fit Pareto/NBD (population) ----------------------------------\n",
    "pnbd = ParetoNBDFitter()\n",
    "pnbd.fit(freq, reci*7, Tarr*7)   # lifetimes wants *days*\n",
    "\n",
    "# ------------------------------------------------------------------\n",
    "# 3.  Fit Hierarchical-Bayes models (uses your implementation) -----\n",
    "from abe_hb_pareto_nbd import AbeHBParetoNBD\n",
    "\n",
    "# ---- HB M1: no covariates\n",
    "customers = [AbeHBParetoNBD.CustomerRFT(x=f, t_x=r, T=t, d=np.array([1.0]))\n",
    "             for f, r, t in zip(freq, reci, Tarr)]\n",
    "\n",
    "hb_m1 = AbeHBParetoNBD(customers, seed=42)\n",
    "hb_m1.run_mcmc(14_000, burn_in=10_000, thin=1, proposal_scale=0.25, progress=False)\n",
    "\n",
    "# ---- HB M2: add initial spend covariate\n",
    "init_spend = (\n",
    "    txn.sort_values(\"date\")\n",
    "        .groupby(\"id\")[\"spend\"].first()\n",
    "        .reindex(summary.index)\n",
    "        .values / 1000                    # scale like Abe\n",
    ")\n",
    "customers_cov = [\n",
    "    AbeHBParetoNBD.CustomerRFT(x=f, t_x=r, T=t, d=np.array([1.0, s]))\n",
    "    for f, r, t, s in zip(freq, reci, Tarr, init_spend)\n",
    "]\n",
    "hb_m2 = AbeHBParetoNBD(customers_cov, seed=123)\n",
    "hb_m2.run_mcmc(14_000, burn_in=10_000, thin=1, proposal_scale=0.25, progress=False)\n",
    "\n",
    "# ------------------------------------------------------------------\n",
    "# 4.  Helper to compute expected repeats for HB models -------------\n",
    "def expected_repeats(hb_model, weeks_vec):\n",
    "    lam, mu = hb_model.posterior_means()\n",
    "    w = np.asarray(weeks_vec, dtype=float)\n",
    "    return (lam[:, None] / mu[:, None]) * (1 - np.exp(-mu[:, None] * w))\n",
    "\n",
    "# ------------------------------------------------------------------\n",
    "# 5.  Individual-level metrics (corr, MSE) -------------------------\n",
    "def indiv_metrics(exp_val, act_val, exp_cal, act_cal):\n",
    "    c_val = np.corrcoef(exp_val, act_val)[0, 1]\n",
    "    c_cal = np.corrcoef(exp_cal, act_cal)[0, 1]\n",
    "    mse_v = np.mean((exp_val - act_val) ** 2)\n",
    "    mse_c = np.mean((exp_cal - act_cal) ** 2)\n",
    "    return c_val, c_cal, mse_v, mse_c\n",
    "\n",
    "# actual counts\n",
    "act_cal = (\n",
    "    txn[txn[\"t_week\"] <= 39]\n",
    "      .groupby(\"id\").size()\n",
    "      .reindex(summary.index, fill_value=0)\n",
    "      .values\n",
    ")\n",
    "act_val = (\n",
    "    txn[(txn[\"t_week\"] > 39) & (txn[\"t_week\"] <= 52)]\n",
    "      .groupby(\"id\").size()\n",
    "      .reindex(summary.index, fill_value=0)\n",
    "      .values\n",
    ")\n",
    "\n",
    "# Pareto/NBD expectations per customer\n",
    "exp_cal_pn = pnbd.conditional_expected_number_of_purchases_up_to_time(39*7, freq, reci*7, Tarr*7)\n",
    "exp52      = pnbd.conditional_expected_number_of_purchases_up_to_time(52*7, freq, reci*7, Tarr*7)\n",
    "exp_val_pn = exp52 - exp_cal_pn\n",
    "c_v_pn, c_c_pn, mse_v_pn, mse_c_pn = indiv_metrics(exp_val_pn, act_val, exp_cal_pn, act_cal)\n",
    "\n",
    "# HB M1 expectations\n",
    "exp_cal_m1 = expected_repeats(hb_m1, 39)\n",
    "exp_val_m1 = expected_repeats(hb_m1, 13)\n",
    "c_v_m1, c_c_m1, mse_v_m1, mse_c_m1 = indiv_metrics(exp_val_m1, act_val, exp_cal_m1, act_cal)\n",
    "\n",
    "# HB M2 expectations\n",
    "exp_cal_m2 = expected_repeats(hb_m2, 39)\n",
    "exp_val_m2 = expected_repeats(hb_m2, 13)\n",
    "c_v_m2, c_c_m2, mse_v_m2, mse_c_m2 = indiv_metrics(exp_val_m2, act_val, exp_cal_m2, act_cal)\n",
    "\n",
    "# ------------------------------------------------------------------\n",
    "# 6.  Aggregate MAPE (validation / calibration / pooled) ----------\n",
    "weeks = np.arange(0, 53)\n",
    "actual_cum = (\n",
    "    txn[txn[\"t_week\"] <= 52]\n",
    "      .groupby(\"t_week\").size()\n",
    "      .reindex(weeks, fill_value=0)\n",
    ").cumsum()\n",
    "\n",
    "def cum_curve_pnbd():\n",
    "    return np.array([pnbd.conditional_expected_number_of_purchases_up_to_time(\n",
    "                        w*7, freq, reci*7, Tarr*7).sum() for w in weeks])\n",
    "\n",
    "def cum_curve_hb(hb_model):\n",
    "    lam, mu = hb_model.posterior_means()\n",
    "    return ((lam/mu)[:,None]*(1-np.exp(-mu[:,None]*weeks))).sum(axis=0)\n",
    "\n",
    "cum_pn  = cum_curve_pnbd()\n",
    "cum_m1  = cum_curve_hb(hb_m1)\n",
    "cum_m2  = cum_curve_hb(hb_m2)\n",
    "\n",
    "def mape(curve, start, end):\n",
    "    slice_act = actual_cum[start:end]\n",
    "    slice_pred = curve[start:end]\n",
    "    return np.mean(np.abs(slice_pred - slice_act) / slice_act.replace(0, np.nan)) * 100\n",
    "\n",
    "mape_val_pn, mape_cal_pn = mape(cum_pn, 40, None), mape(cum_pn, 0, 40)\n",
    "mape_val_m1, mape_cal_m1 = mape(cum_m1, 40, None), mape(cum_m1, 0, 40)\n",
    "mape_val_m2, mape_cal_m2 = mape(cum_m2, 40, None), mape(cum_m2, 0, 40)\n",
    "\n",
    "# pooled MAPE\n",
    "mape_pool_pn = mape(cum_pn, 0, None)\n",
    "mape_pool_m1 = mape(cum_m1, 0, None)\n",
    "mape_pool_m2 = mape(cum_m2, 0, None)\n",
    "\n",
    "# ------------------------------------------------------------------\n",
    "# 7.  Assemble Table 2 ---------------------------------------------\n",
    "table2 = pd.DataFrame({\n",
    "    \"Criterion\": [\n",
    "        \"Correlation: Validation\", \"Correlation: Calibration\",\n",
    "        \"MSE: Validation\", \"MSE: Calibration\",\n",
    "        \"MAPE (%): Validation\", \"MAPE (%): Calibration\", \"MAPE (%): Pooled\"\n",
    "    ],\n",
    "    \"Pareto/NBD\": [\n",
    "        c_v_pn, c_c_pn, mse_v_pn, mse_c_pn,\n",
    "        mape_val_pn, mape_cal_pn, mape_pool_pn\n",
    "    ],\n",
    "    \"HB M1\\n(no covariate)\": [\n",
    "        c_v_m1, c_c_m1, mse_v_m1, mse_c_m1,\n",
    "        mape_val_m1, mape_cal_m1, mape_pool_m1\n",
    "    ],\n",
    "    \"HB M2\\n(with covariate)\": [\n",
    "        c_v_m2, c_c_m2, mse_v_m2, mse_c_m2,\n",
    "        mape_val_m2, mape_cal_m2, mape_pool_m2\n",
    "    ],\n",
    "}).set_index(\"Criterion\").round(2)\n",
    "\n",
    "print(tabulate(table2, headers=\"keys\", tablefmt=\"github\"))"
   ]
  },
  {
   "cell_type": "markdown",
   "id": "3401fe15",
   "metadata": {},
   "source": [
    "## Table 3 Estimation Results for CDNOW Data"
   ]
  },
  {
   "cell_type": "code",
   "execution_count": null,
   "id": "8a7b6b0f",
   "metadata": {},
   "outputs": [],
   "source": []
  },
  {
   "cell_type": "markdown",
   "id": "ce6104d9",
   "metadata": {},
   "source": [
    "## Table 4 Customer-Specific Statistics for the Top and Bottom 10 Customers"
   ]
  },
  {
   "cell_type": "code",
   "execution_count": null,
   "id": "2127f884",
   "metadata": {},
   "outputs": [],
   "source": []
  }
 ],
 "metadata": {
  "kernelspec": {
   "display_name": ".venv312",
   "language": "python",
   "name": "python3"
  },
  "language_info": {
   "codemirror_mode": {
    "name": "ipython",
    "version": 3
   },
   "file_extension": ".py",
   "mimetype": "text/x-python",
   "name": "python",
   "nbconvert_exporter": "python",
   "pygments_lexer": "ipython3",
   "version": "3.12.9"
  }
 },
 "nbformat": 4,
 "nbformat_minor": 5
}
